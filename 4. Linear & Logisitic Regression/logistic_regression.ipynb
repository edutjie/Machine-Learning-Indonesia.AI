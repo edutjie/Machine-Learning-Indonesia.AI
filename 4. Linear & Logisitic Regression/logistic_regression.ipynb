{
 "cells": [
  {
   "cell_type": "markdown",
   "metadata": {},
   "source": [
    "*Eduardus Tjitrahardja | @edutjie | 2022*"
   ]
  },
  {
   "cell_type": "markdown",
   "metadata": {},
   "source": [
    "# Logistic Regression"
   ]
  },
  {
   "cell_type": "markdown",
   "metadata": {},
   "source": [
    "## Import Libraries"
   ]
  },
  {
   "cell_type": "code",
   "execution_count": 573,
   "metadata": {},
   "outputs": [],
   "source": [
    "import pandas as pd\n",
    "import numpy as np\n",
    "import matplotlib.pyplot as plt\n",
    "%matplotlib inline\n",
    "import seaborn as sns"
   ]
  },
  {
   "cell_type": "markdown",
   "metadata": {},
   "source": [
    "### Set SNS Style"
   ]
  },
  {
   "cell_type": "code",
   "execution_count": 574,
   "metadata": {},
   "outputs": [],
   "source": [
    "sns.set_style('darkgrid')\n",
    "sns.set(color_codes=True)"
   ]
  },
  {
   "cell_type": "markdown",
   "metadata": {},
   "source": [
    "## Load Dataset"
   ]
  },
  {
   "cell_type": "code",
   "execution_count": 575,
   "metadata": {},
   "outputs": [
    {
     "data": {
      "text/html": [
       "<div>\n",
       "<style scoped>\n",
       "    .dataframe tbody tr th:only-of-type {\n",
       "        vertical-align: middle;\n",
       "    }\n",
       "\n",
       "    .dataframe tbody tr th {\n",
       "        vertical-align: top;\n",
       "    }\n",
       "\n",
       "    .dataframe thead th {\n",
       "        text-align: right;\n",
       "    }\n",
       "</style>\n",
       "<table border=\"1\" class=\"dataframe\">\n",
       "  <thead>\n",
       "    <tr style=\"text-align: right;\">\n",
       "      <th></th>\n",
       "      <th>age</th>\n",
       "      <th>job</th>\n",
       "      <th>marital</th>\n",
       "      <th>education</th>\n",
       "      <th>default</th>\n",
       "      <th>housing</th>\n",
       "      <th>loan</th>\n",
       "      <th>contact</th>\n",
       "      <th>month</th>\n",
       "      <th>day_of_week</th>\n",
       "      <th>...</th>\n",
       "      <th>campaign</th>\n",
       "      <th>pdays</th>\n",
       "      <th>previous</th>\n",
       "      <th>poutcome</th>\n",
       "      <th>emp_var_rate</th>\n",
       "      <th>cons_price_idx</th>\n",
       "      <th>cons_conf_idx</th>\n",
       "      <th>euribor3m</th>\n",
       "      <th>nr_employed</th>\n",
       "      <th>y</th>\n",
       "    </tr>\n",
       "  </thead>\n",
       "  <tbody>\n",
       "    <tr>\n",
       "      <th>0</th>\n",
       "      <td>44</td>\n",
       "      <td>blue-collar</td>\n",
       "      <td>married</td>\n",
       "      <td>basic.4y</td>\n",
       "      <td>unknown</td>\n",
       "      <td>yes</td>\n",
       "      <td>no</td>\n",
       "      <td>cellular</td>\n",
       "      <td>aug</td>\n",
       "      <td>thu</td>\n",
       "      <td>...</td>\n",
       "      <td>1</td>\n",
       "      <td>999</td>\n",
       "      <td>0</td>\n",
       "      <td>nonexistent</td>\n",
       "      <td>1.4</td>\n",
       "      <td>93.444</td>\n",
       "      <td>-36.1</td>\n",
       "      <td>4.963</td>\n",
       "      <td>5228.1</td>\n",
       "      <td>0</td>\n",
       "    </tr>\n",
       "    <tr>\n",
       "      <th>1</th>\n",
       "      <td>53</td>\n",
       "      <td>technician</td>\n",
       "      <td>married</td>\n",
       "      <td>unknown</td>\n",
       "      <td>no</td>\n",
       "      <td>no</td>\n",
       "      <td>no</td>\n",
       "      <td>cellular</td>\n",
       "      <td>nov</td>\n",
       "      <td>fri</td>\n",
       "      <td>...</td>\n",
       "      <td>1</td>\n",
       "      <td>999</td>\n",
       "      <td>0</td>\n",
       "      <td>nonexistent</td>\n",
       "      <td>-0.1</td>\n",
       "      <td>93.200</td>\n",
       "      <td>-42.0</td>\n",
       "      <td>4.021</td>\n",
       "      <td>5195.8</td>\n",
       "      <td>0</td>\n",
       "    </tr>\n",
       "    <tr>\n",
       "      <th>2</th>\n",
       "      <td>28</td>\n",
       "      <td>management</td>\n",
       "      <td>single</td>\n",
       "      <td>university.degree</td>\n",
       "      <td>no</td>\n",
       "      <td>yes</td>\n",
       "      <td>no</td>\n",
       "      <td>cellular</td>\n",
       "      <td>jun</td>\n",
       "      <td>thu</td>\n",
       "      <td>...</td>\n",
       "      <td>3</td>\n",
       "      <td>6</td>\n",
       "      <td>2</td>\n",
       "      <td>success</td>\n",
       "      <td>-1.7</td>\n",
       "      <td>94.055</td>\n",
       "      <td>-39.8</td>\n",
       "      <td>0.729</td>\n",
       "      <td>4991.6</td>\n",
       "      <td>1</td>\n",
       "    </tr>\n",
       "    <tr>\n",
       "      <th>3</th>\n",
       "      <td>39</td>\n",
       "      <td>services</td>\n",
       "      <td>married</td>\n",
       "      <td>high.school</td>\n",
       "      <td>no</td>\n",
       "      <td>no</td>\n",
       "      <td>no</td>\n",
       "      <td>cellular</td>\n",
       "      <td>apr</td>\n",
       "      <td>fri</td>\n",
       "      <td>...</td>\n",
       "      <td>2</td>\n",
       "      <td>999</td>\n",
       "      <td>0</td>\n",
       "      <td>nonexistent</td>\n",
       "      <td>-1.8</td>\n",
       "      <td>93.075</td>\n",
       "      <td>-47.1</td>\n",
       "      <td>1.405</td>\n",
       "      <td>5099.1</td>\n",
       "      <td>0</td>\n",
       "    </tr>\n",
       "    <tr>\n",
       "      <th>4</th>\n",
       "      <td>55</td>\n",
       "      <td>retired</td>\n",
       "      <td>married</td>\n",
       "      <td>basic.4y</td>\n",
       "      <td>no</td>\n",
       "      <td>yes</td>\n",
       "      <td>no</td>\n",
       "      <td>cellular</td>\n",
       "      <td>aug</td>\n",
       "      <td>fri</td>\n",
       "      <td>...</td>\n",
       "      <td>1</td>\n",
       "      <td>3</td>\n",
       "      <td>1</td>\n",
       "      <td>success</td>\n",
       "      <td>-2.9</td>\n",
       "      <td>92.201</td>\n",
       "      <td>-31.4</td>\n",
       "      <td>0.869</td>\n",
       "      <td>5076.2</td>\n",
       "      <td>1</td>\n",
       "    </tr>\n",
       "  </tbody>\n",
       "</table>\n",
       "<p>5 rows × 21 columns</p>\n",
       "</div>"
      ],
      "text/plain": [
       "   age          job  marital          education  default housing loan  \\\n",
       "0   44  blue-collar  married           basic.4y  unknown     yes   no   \n",
       "1   53   technician  married            unknown       no      no   no   \n",
       "2   28   management   single  university.degree       no     yes   no   \n",
       "3   39     services  married        high.school       no      no   no   \n",
       "4   55      retired  married           basic.4y       no     yes   no   \n",
       "\n",
       "    contact month day_of_week  ...  campaign  pdays  previous     poutcome  \\\n",
       "0  cellular   aug         thu  ...         1    999         0  nonexistent   \n",
       "1  cellular   nov         fri  ...         1    999         0  nonexistent   \n",
       "2  cellular   jun         thu  ...         3      6         2      success   \n",
       "3  cellular   apr         fri  ...         2    999         0  nonexistent   \n",
       "4  cellular   aug         fri  ...         1      3         1      success   \n",
       "\n",
       "  emp_var_rate  cons_price_idx  cons_conf_idx  euribor3m  nr_employed  y  \n",
       "0          1.4          93.444          -36.1      4.963       5228.1  0  \n",
       "1         -0.1          93.200          -42.0      4.021       5195.8  0  \n",
       "2         -1.7          94.055          -39.8      0.729       4991.6  1  \n",
       "3         -1.8          93.075          -47.1      1.405       5099.1  0  \n",
       "4         -2.9          92.201          -31.4      0.869       5076.2  1  \n",
       "\n",
       "[5 rows x 21 columns]"
      ]
     },
     "execution_count": 575,
     "metadata": {},
     "output_type": "execute_result"
    }
   ],
   "source": [
    "df = pd.read_csv('../data/banking.csv')\n",
    "df.head()"
   ]
  },
  {
   "cell_type": "code",
   "execution_count": 576,
   "metadata": {},
   "outputs": [
    {
     "name": "stdout",
     "output_type": "stream",
     "text": [
      "<class 'pandas.core.frame.DataFrame'>\n",
      "RangeIndex: 41188 entries, 0 to 41187\n",
      "Data columns (total 21 columns):\n",
      " #   Column          Non-Null Count  Dtype  \n",
      "---  ------          --------------  -----  \n",
      " 0   age             41188 non-null  int64  \n",
      " 1   job             41188 non-null  object \n",
      " 2   marital         41188 non-null  object \n",
      " 3   education       41188 non-null  object \n",
      " 4   default         41188 non-null  object \n",
      " 5   housing         41188 non-null  object \n",
      " 6   loan            41188 non-null  object \n",
      " 7   contact         41188 non-null  object \n",
      " 8   month           41188 non-null  object \n",
      " 9   day_of_week     41188 non-null  object \n",
      " 10  duration        41188 non-null  int64  \n",
      " 11  campaign        41188 non-null  int64  \n",
      " 12  pdays           41188 non-null  int64  \n",
      " 13  previous        41188 non-null  int64  \n",
      " 14  poutcome        41188 non-null  object \n",
      " 15  emp_var_rate    41188 non-null  float64\n",
      " 16  cons_price_idx  41188 non-null  float64\n",
      " 17  cons_conf_idx   41188 non-null  float64\n",
      " 18  euribor3m       41188 non-null  float64\n",
      " 19  nr_employed     41188 non-null  float64\n",
      " 20  y               41188 non-null  int64  \n",
      "dtypes: float64(5), int64(6), object(10)\n",
      "memory usage: 6.6+ MB\n"
     ]
    }
   ],
   "source": [
    "df.info()"
   ]
  },
  {
   "cell_type": "code",
   "execution_count": 577,
   "metadata": {},
   "outputs": [
    {
     "data": {
      "text/plain": [
       "age               False\n",
       "job               False\n",
       "marital           False\n",
       "education         False\n",
       "default           False\n",
       "housing           False\n",
       "loan              False\n",
       "contact           False\n",
       "month             False\n",
       "day_of_week       False\n",
       "duration          False\n",
       "campaign          False\n",
       "pdays             False\n",
       "previous          False\n",
       "poutcome          False\n",
       "emp_var_rate      False\n",
       "cons_price_idx    False\n",
       "cons_conf_idx     False\n",
       "euribor3m         False\n",
       "nr_employed       False\n",
       "y                 False\n",
       "dtype: bool"
      ]
     },
     "execution_count": 577,
     "metadata": {},
     "output_type": "execute_result"
    }
   ],
   "source": [
    "df.isnull().any()"
   ]
  },
  {
   "cell_type": "markdown",
   "metadata": {},
   "source": [
    "## EDA"
   ]
  },
  {
   "cell_type": "code",
   "execution_count": 578,
   "metadata": {},
   "outputs": [
    {
     "data": {
      "text/html": [
       "<div>\n",
       "<style scoped>\n",
       "    .dataframe tbody tr th:only-of-type {\n",
       "        vertical-align: middle;\n",
       "    }\n",
       "\n",
       "    .dataframe tbody tr th {\n",
       "        vertical-align: top;\n",
       "    }\n",
       "\n",
       "    .dataframe thead th {\n",
       "        text-align: right;\n",
       "    }\n",
       "</style>\n",
       "<table border=\"1\" class=\"dataframe\">\n",
       "  <thead>\n",
       "    <tr style=\"text-align: right;\">\n",
       "      <th></th>\n",
       "      <th>age</th>\n",
       "      <th>duration</th>\n",
       "      <th>campaign</th>\n",
       "      <th>pdays</th>\n",
       "      <th>previous</th>\n",
       "      <th>emp_var_rate</th>\n",
       "      <th>cons_price_idx</th>\n",
       "      <th>cons_conf_idx</th>\n",
       "      <th>euribor3m</th>\n",
       "      <th>nr_employed</th>\n",
       "    </tr>\n",
       "    <tr>\n",
       "      <th>y</th>\n",
       "      <th></th>\n",
       "      <th></th>\n",
       "      <th></th>\n",
       "      <th></th>\n",
       "      <th></th>\n",
       "      <th></th>\n",
       "      <th></th>\n",
       "      <th></th>\n",
       "      <th></th>\n",
       "      <th></th>\n",
       "    </tr>\n",
       "  </thead>\n",
       "  <tbody>\n",
       "    <tr>\n",
       "      <th>0</th>\n",
       "      <td>39.911185</td>\n",
       "      <td>220.844807</td>\n",
       "      <td>2.633085</td>\n",
       "      <td>984.113878</td>\n",
       "      <td>0.132374</td>\n",
       "      <td>0.248875</td>\n",
       "      <td>93.603757</td>\n",
       "      <td>-40.593097</td>\n",
       "      <td>3.811491</td>\n",
       "      <td>5176.166600</td>\n",
       "    </tr>\n",
       "    <tr>\n",
       "      <th>1</th>\n",
       "      <td>40.913147</td>\n",
       "      <td>553.191164</td>\n",
       "      <td>2.051724</td>\n",
       "      <td>792.035560</td>\n",
       "      <td>0.492672</td>\n",
       "      <td>-1.233448</td>\n",
       "      <td>93.354386</td>\n",
       "      <td>-39.789784</td>\n",
       "      <td>2.123135</td>\n",
       "      <td>5095.115991</td>\n",
       "    </tr>\n",
       "  </tbody>\n",
       "</table>\n",
       "</div>"
      ],
      "text/plain": [
       "         age    duration  campaign       pdays  previous  emp_var_rate  \\\n",
       "y                                                                        \n",
       "0  39.911185  220.844807  2.633085  984.113878  0.132374      0.248875   \n",
       "1  40.913147  553.191164  2.051724  792.035560  0.492672     -1.233448   \n",
       "\n",
       "   cons_price_idx  cons_conf_idx  euribor3m  nr_employed  \n",
       "y                                                         \n",
       "0       93.603757     -40.593097   3.811491  5176.166600  \n",
       "1       93.354386     -39.789784   2.123135  5095.115991  "
      ]
     },
     "execution_count": 578,
     "metadata": {},
     "output_type": "execute_result"
    }
   ],
   "source": [
    "df.groupby('y').mean()"
   ]
  },
  {
   "cell_type": "code",
   "execution_count": 579,
   "metadata": {},
   "outputs": [
    {
     "data": {
      "image/png": "[encoded data removed]",
      "text/plain": [
       "<Figure size 432x288 with 1 Axes>"
      ]
     },
     "metadata": {},
     "output_type": "display_data"
    }
   ],
   "source": [
    "sns.countplot(x='y', data=df)\n",
    "plt.show()"
   ]
  },
  {
   "cell_type": "markdown",
   "metadata": {},
   "source": [
    "The dataset is uneven"
   ]
  },
  {
   "cell_type": "markdown",
   "metadata": {},
   "source": [
    "### Balancing Dataset"
   ]
  },
  {
   "cell_type": "code",
   "execution_count": 580,
   "metadata": {},
   "outputs": [],
   "source": [
    "# balanced_df = pd.concat([df[df.y == 1], df[df.y == 0].sample(n=df[df.y == 1].shape[0], random_state=1)], axis=0)\n",
    "balanced_df = df"
   ]
  },
  {
   "cell_type": "code",
   "execution_count": 581,
   "metadata": {},
   "outputs": [
    {
     "data": {
      "image/png": "[encoded data removed]",
      "text/plain": [
       "<Figure size 432x288 with 1 Axes>"
      ]
     },
     "metadata": {},
     "output_type": "display_data"
    }
   ],
   "source": [
    "sns.countplot(x='y', data=balanced_df)\n",
    "plt.show()"
   ]
  },
  {
   "cell_type": "code",
   "execution_count": 582,
   "metadata": {},
   "outputs": [
    {
     "data": {
      "text/html": [
       "<div>\n",
       "<style scoped>\n",
       "    .dataframe tbody tr th:only-of-type {\n",
       "        vertical-align: middle;\n",
       "    }\n",
       "\n",
       "    .dataframe tbody tr th {\n",
       "        vertical-align: top;\n",
       "    }\n",
       "\n",
       "    .dataframe thead th {\n",
       "        text-align: right;\n",
       "    }\n",
       "</style>\n",
       "<table border=\"1\" class=\"dataframe\">\n",
       "  <thead>\n",
       "    <tr style=\"text-align: right;\">\n",
       "      <th></th>\n",
       "      <th>age</th>\n",
       "      <th>duration</th>\n",
       "      <th>campaign</th>\n",
       "      <th>pdays</th>\n",
       "      <th>previous</th>\n",
       "      <th>emp_var_rate</th>\n",
       "      <th>cons_price_idx</th>\n",
       "      <th>cons_conf_idx</th>\n",
       "      <th>euribor3m</th>\n",
       "      <th>nr_employed</th>\n",
       "      <th>y</th>\n",
       "    </tr>\n",
       "    <tr>\n",
       "      <th>job</th>\n",
       "      <th></th>\n",
       "      <th></th>\n",
       "      <th></th>\n",
       "      <th></th>\n",
       "      <th></th>\n",
       "      <th></th>\n",
       "      <th></th>\n",
       "      <th></th>\n",
       "      <th></th>\n",
       "      <th></th>\n",
       "      <th></th>\n",
       "    </tr>\n",
       "  </thead>\n",
       "  <tbody>\n",
       "    <tr>\n",
       "      <th>admin.</th>\n",
       "      <td>38.187296</td>\n",
       "      <td>254.312128</td>\n",
       "      <td>2.623489</td>\n",
       "      <td>954.319229</td>\n",
       "      <td>0.189023</td>\n",
       "      <td>0.015563</td>\n",
       "      <td>93.534054</td>\n",
       "      <td>-40.245433</td>\n",
       "      <td>3.550274</td>\n",
       "      <td>5164.125350</td>\n",
       "      <td>0.129726</td>\n",
       "    </tr>\n",
       "    <tr>\n",
       "      <th>blue-collar</th>\n",
       "      <td>39.555760</td>\n",
       "      <td>264.542360</td>\n",
       "      <td>2.558461</td>\n",
       "      <td>985.160363</td>\n",
       "      <td>0.122542</td>\n",
       "      <td>0.248995</td>\n",
       "      <td>93.656656</td>\n",
       "      <td>-41.375816</td>\n",
       "      <td>3.771996</td>\n",
       "      <td>5175.615150</td>\n",
       "      <td>0.068943</td>\n",
       "    </tr>\n",
       "    <tr>\n",
       "      <th>entrepreneur</th>\n",
       "      <td>41.723214</td>\n",
       "      <td>263.267857</td>\n",
       "      <td>2.535714</td>\n",
       "      <td>981.267170</td>\n",
       "      <td>0.138736</td>\n",
       "      <td>0.158723</td>\n",
       "      <td>93.605372</td>\n",
       "      <td>-41.283654</td>\n",
       "      <td>3.791120</td>\n",
       "      <td>5176.313530</td>\n",
       "      <td>0.085165</td>\n",
       "    </tr>\n",
       "    <tr>\n",
       "      <th>housemaid</th>\n",
       "      <td>45.500000</td>\n",
       "      <td>250.454717</td>\n",
       "      <td>2.639623</td>\n",
       "      <td>960.579245</td>\n",
       "      <td>0.137736</td>\n",
       "      <td>0.433396</td>\n",
       "      <td>93.676576</td>\n",
       "      <td>-39.495283</td>\n",
       "      <td>4.009645</td>\n",
       "      <td>5179.529623</td>\n",
       "      <td>0.100000</td>\n",
       "    </tr>\n",
       "    <tr>\n",
       "      <th>management</th>\n",
       "      <td>42.362859</td>\n",
       "      <td>257.058140</td>\n",
       "      <td>2.476060</td>\n",
       "      <td>962.647059</td>\n",
       "      <td>0.185021</td>\n",
       "      <td>-0.012688</td>\n",
       "      <td>93.522755</td>\n",
       "      <td>-40.489466</td>\n",
       "      <td>3.611316</td>\n",
       "      <td>5166.650513</td>\n",
       "      <td>0.112175</td>\n",
       "    </tr>\n",
       "    <tr>\n",
       "      <th>retired</th>\n",
       "      <td>62.027326</td>\n",
       "      <td>273.712209</td>\n",
       "      <td>2.476744</td>\n",
       "      <td>897.936047</td>\n",
       "      <td>0.327326</td>\n",
       "      <td>-0.698314</td>\n",
       "      <td>93.430786</td>\n",
       "      <td>-38.573081</td>\n",
       "      <td>2.770066</td>\n",
       "      <td>5122.262151</td>\n",
       "      <td>0.252326</td>\n",
       "    </tr>\n",
       "    <tr>\n",
       "      <th>self-employed</th>\n",
       "      <td>39.949331</td>\n",
       "      <td>264.142153</td>\n",
       "      <td>2.660802</td>\n",
       "      <td>976.621393</td>\n",
       "      <td>0.143561</td>\n",
       "      <td>0.094159</td>\n",
       "      <td>93.559982</td>\n",
       "      <td>-40.488107</td>\n",
       "      <td>3.689376</td>\n",
       "      <td>5170.674384</td>\n",
       "      <td>0.104856</td>\n",
       "    </tr>\n",
       "    <tr>\n",
       "      <th>services</th>\n",
       "      <td>37.926430</td>\n",
       "      <td>258.398085</td>\n",
       "      <td>2.587805</td>\n",
       "      <td>979.974049</td>\n",
       "      <td>0.154951</td>\n",
       "      <td>0.175359</td>\n",
       "      <td>93.634659</td>\n",
       "      <td>-41.290048</td>\n",
       "      <td>3.699187</td>\n",
       "      <td>5171.600126</td>\n",
       "      <td>0.081381</td>\n",
       "    </tr>\n",
       "    <tr>\n",
       "      <th>student</th>\n",
       "      <td>25.894857</td>\n",
       "      <td>283.683429</td>\n",
       "      <td>2.104000</td>\n",
       "      <td>840.217143</td>\n",
       "      <td>0.524571</td>\n",
       "      <td>-1.408000</td>\n",
       "      <td>93.331613</td>\n",
       "      <td>-40.187543</td>\n",
       "      <td>1.884224</td>\n",
       "      <td>5085.939086</td>\n",
       "      <td>0.314286</td>\n",
       "    </tr>\n",
       "    <tr>\n",
       "      <th>technician</th>\n",
       "      <td>38.507638</td>\n",
       "      <td>250.232241</td>\n",
       "      <td>2.577339</td>\n",
       "      <td>964.408127</td>\n",
       "      <td>0.153789</td>\n",
       "      <td>0.274566</td>\n",
       "      <td>93.561471</td>\n",
       "      <td>-39.927569</td>\n",
       "      <td>3.820401</td>\n",
       "      <td>5175.648391</td>\n",
       "      <td>0.108260</td>\n",
       "    </tr>\n",
       "    <tr>\n",
       "      <th>unemployed</th>\n",
       "      <td>39.733728</td>\n",
       "      <td>249.451677</td>\n",
       "      <td>2.564103</td>\n",
       "      <td>935.316568</td>\n",
       "      <td>0.199211</td>\n",
       "      <td>-0.111736</td>\n",
       "      <td>93.563781</td>\n",
       "      <td>-40.007594</td>\n",
       "      <td>3.466583</td>\n",
       "      <td>5157.156509</td>\n",
       "      <td>0.142012</td>\n",
       "    </tr>\n",
       "    <tr>\n",
       "      <th>unknown</th>\n",
       "      <td>45.563636</td>\n",
       "      <td>239.675758</td>\n",
       "      <td>2.648485</td>\n",
       "      <td>938.727273</td>\n",
       "      <td>0.154545</td>\n",
       "      <td>0.357879</td>\n",
       "      <td>93.718942</td>\n",
       "      <td>-38.797879</td>\n",
       "      <td>3.949033</td>\n",
       "      <td>5172.931818</td>\n",
       "      <td>0.112121</td>\n",
       "    </tr>\n",
       "  </tbody>\n",
       "</table>\n",
       "</div>"
      ],
      "text/plain": [
       "                     age    duration  campaign       pdays  previous  \\\n",
       "job                                                                    \n",
       "admin.         38.187296  254.312128  2.623489  954.319229  0.189023   \n",
       "blue-collar    39.555760  264.542360  2.558461  985.160363  0.122542   \n",
       "entrepreneur   41.723214  263.267857  2.535714  981.267170  0.138736   \n",
       "housemaid      45.500000  250.454717  2.639623  960.579245  0.137736   \n",
       "management     42.362859  257.058140  2.476060  962.647059  0.185021   \n",
       "retired        62.027326  273.712209  2.476744  897.936047  0.327326   \n",
       "self-employed  39.949331  264.142153  2.660802  976.621393  0.143561   \n",
       "services       37.926430  258.398085  2.587805  979.974049  0.154951   \n",
       "student        25.894857  283.683429  2.104000  840.217143  0.524571   \n",
       "technician     38.507638  250.232241  2.577339  964.408127  0.153789   \n",
       "unemployed     39.733728  249.451677  2.564103  935.316568  0.199211   \n",
       "unknown        45.563636  239.675758  2.648485  938.727273  0.154545   \n",
       "\n",
       "               emp_var_rate  cons_price_idx  cons_conf_idx  euribor3m  \\\n",
       "job                                                                     \n",
       "admin.             0.015563       93.534054     -40.245433   3.550274   \n",
       "blue-collar        0.248995       93.656656     -41.375816   3.771996   \n",
       "entrepreneur       0.158723       93.605372     -41.283654   3.791120   \n",
       "housemaid          0.433396       93.676576     -39.495283   4.009645   \n",
       "management        -0.012688       93.522755     -40.489466   3.611316   \n",
       "retired           -0.698314       93.430786     -38.573081   2.770066   \n",
       "self-employed      0.094159       93.559982     -40.488107   3.689376   \n",
       "services           0.175359       93.634659     -41.290048   3.699187   \n",
       "student           -1.408000       93.331613     -40.187543   1.884224   \n",
       "technician         0.274566       93.561471     -39.927569   3.820401   \n",
       "unemployed        -0.111736       93.563781     -40.007594   3.466583   \n",
       "unknown            0.357879       93.718942     -38.797879   3.949033   \n",
       "\n",
       "               nr_employed         y  \n",
       "job                                   \n",
       "admin.         5164.125350  0.129726  \n",
       "blue-collar    5175.615150  0.068943  \n",
       "entrepreneur   5176.313530  0.085165  \n",
       "housemaid      5179.529623  0.100000  \n",
       "management     5166.650513  0.112175  \n",
       "retired        5122.262151  0.252326  \n",
       "self-employed  5170.674384  0.104856  \n",
       "services       5171.600126  0.081381  \n",
       "student        5085.939086  0.314286  \n",
       "technician     5175.648391  0.108260  \n",
       "unemployed     5157.156509  0.142012  \n",
       "unknown        5172.931818  0.112121  "
      ]
     },
     "execution_count": 582,
     "metadata": {},
     "output_type": "execute_result"
    }
   ],
   "source": [
    "balanced_df.groupby('job').mean()"
   ]
  },
  {
   "cell_type": "code",
   "execution_count": 583,
   "metadata": {},
   "outputs": [
    {
     "data": {
      "image/png": "[encoded data removed]",
      "text/plain": [
       "<Figure size 1080x720 with 1 Axes>"
      ]
     },
     "metadata": {},
     "output_type": "display_data"
    }
   ],
   "source": [
    "plt.figure(figsize=(15, 10))\n",
    "sns.countplot(x='job', data=balanced_df, hue='y')\n",
    "plt.xticks(rotation=90) # rotate xticks\n",
    "plt.show()"
   ]
  },
  {
   "cell_type": "code",
   "execution_count": 584,
   "metadata": {},
   "outputs": [
    {
     "data": {
      "image/png": "[encoded data removed]",
      "text/plain": [
       "<Figure size 432x288 with 1 Axes>"
      ]
     },
     "metadata": {},
     "output_type": "display_data"
    }
   ],
   "source": [
    "marital_tab = pd.crosstab(balanced_df.marital, balanced_df.y)\n",
    "marital_tab.div(marital_tab.sum(1).astype(float), axis=0).plot(kind='bar', stacked=True)\n",
    "plt.show()"
   ]
  },
  {
   "cell_type": "code",
   "execution_count": 585,
   "metadata": {},
   "outputs": [
    {
     "data": {
      "image/png": "[encoded data removed]",
      "text/plain": [
       "<Figure size 432x288 with 1 Axes>"
      ]
     },
     "metadata": {},
     "output_type": "display_data"
    }
   ],
   "source": [
    "edu_tab = pd.crosstab(balanced_df.education, balanced_df.y)\n",
    "edu_tab.div(edu_tab.sum(1).astype(float), axis=0).plot(kind='bar', stacked=True)\n",
    "plt.show()"
   ]
  },
  {
   "cell_type": "code",
   "execution_count": 586,
   "metadata": {},
   "outputs": [
    {
     "data": {
      "image/png": "[encoded data removed]",
      "text/plain": [
       "<Figure size 432x288 with 1 Axes>"
      ]
     },
     "metadata": {},
     "output_type": "display_data"
    }
   ],
   "source": [
    "sns.countplot(x='previous', data=balanced_df, hue='y')\n",
    "plt.show()"
   ]
  },
  {
   "cell_type": "code",
   "execution_count": 587,
   "metadata": {},
   "outputs": [
    {
     "data": {
      "image/png": "[encoded data removed]",
      "text/plain": [
       "<Figure size 432x288 with 1 Axes>"
      ]
     },
     "metadata": {},
     "output_type": "display_data"
    }
   ],
   "source": [
    "sns.countplot(x='day_of_week', data=balanced_df, hue='y')\n",
    "plt.show()"
   ]
  },
  {
   "cell_type": "markdown",
   "metadata": {},
   "source": [
    "every is almost the same, let's drop it "
   ]
  },
  {
   "cell_type": "code",
   "execution_count": 588,
   "metadata": {},
   "outputs": [],
   "source": [
    "# balanced_df.drop(['day_of_week'], axis=1, inplace=True)"
   ]
  },
  {
   "cell_type": "code",
   "execution_count": 589,
   "metadata": {},
   "outputs": [
    {
     "data": {
      "image/png": "[encoded data removed]",
      "text/plain": [
       "<Figure size 432x288 with 1 Axes>"
      ]
     },
     "metadata": {},
     "output_type": "display_data"
    }
   ],
   "source": [
    "sns.countplot(x='month', data=balanced_df, hue='y')\n",
    "plt.show()"
   ]
  },
  {
   "cell_type": "code",
   "execution_count": 590,
   "metadata": {},
   "outputs": [
    {
     "data": {
      "image/png": "[encoded data removed]",
      "text/plain": [
       "<Figure size 432x288 with 1 Axes>"
      ]
     },
     "metadata": {},
     "output_type": "display_data"
    }
   ],
   "source": [
    "sns.histplot(x='age', data=balanced_df, hue='y', bins=10)\n",
    "plt.show()"
   ]
  },
  {
   "cell_type": "code",
   "execution_count": 591,
   "metadata": {},
   "outputs": [
    {
     "data": {
      "text/plain": [
       "<AxesSubplot:xlabel='poutcome', ylabel='count'>"
      ]
     },
     "execution_count": 591,
     "metadata": {},
     "output_type": "execute_result"
    },
    {
     "data": {
      "image/png": "[encoded data removed]",
      "text/plain": [
       "<Figure size 432x288 with 1 Axes>"
      ]
     },
     "metadata": {},
     "output_type": "display_data"
    }
   ],
   "source": [
    "sns.countplot(x='poutcome', data=balanced_df, hue='y')"
   ]
  },
  {
   "cell_type": "code",
   "execution_count": 592,
   "metadata": {},
   "outputs": [
    {
     "data": {
      "image/png": "[encoded data removed]",
      "text/plain": [
       "<Figure size 432x288 with 1 Axes>"
      ]
     },
     "metadata": {},
     "output_type": "display_data"
    }
   ],
   "source": [
    "sns.histplot(x='duration', data=balanced_df, hue='y')\n",
    "plt.show()"
   ]
  },
  {
   "cell_type": "markdown",
   "metadata": {},
   "source": [
    "## Data Preprocessing"
   ]
  },
  {
   "cell_type": "code",
   "execution_count": 593,
   "metadata": {},
   "outputs": [
    {
     "name": "stdout",
     "output_type": "stream",
     "text": [
      "['job', 'marital', 'education', 'default', 'housing', 'loan', 'contact', 'month', 'day_of_week', 'poutcome']\n",
      "['age', 'duration', 'campaign', 'pdays', 'previous', 'emp_var_rate', 'cons_price_idx', 'cons_conf_idx', 'euribor3m', 'nr_employed']\n"
     ]
    }
   ],
   "source": [
    "cat_cols = balanced_df.select_dtypes(include=['object']).columns.to_list()\n",
    "num_cols = balanced_df.select_dtypes(include=['int64', 'float64']).columns.to_list()\n",
    "num_cols.remove('y')\n",
    "\n",
    "print(cat_cols)\n",
    "print(num_cols)"
   ]
  },
  {
   "cell_type": "markdown",
   "metadata": {},
   "source": [
    "### Observe Categorical Columns"
   ]
  },
  {
   "cell_type": "code",
   "execution_count": 594,
   "metadata": {},
   "outputs": [
    {
     "data": {
      "text/html": [
       "<div>\n",
       "<style scoped>\n",
       "    .dataframe tbody tr th:only-of-type {\n",
       "        vertical-align: middle;\n",
       "    }\n",
       "\n",
       "    .dataframe tbody tr th {\n",
       "        vertical-align: top;\n",
       "    }\n",
       "\n",
       "    .dataframe thead th {\n",
       "        text-align: right;\n",
       "    }\n",
       "</style>\n",
       "<table border=\"1\" class=\"dataframe\">\n",
       "  <thead>\n",
       "    <tr style=\"text-align: right;\">\n",
       "      <th></th>\n",
       "      <th>job</th>\n",
       "      <th>marital</th>\n",
       "      <th>education</th>\n",
       "      <th>default</th>\n",
       "      <th>housing</th>\n",
       "      <th>loan</th>\n",
       "      <th>contact</th>\n",
       "      <th>month</th>\n",
       "      <th>day_of_week</th>\n",
       "      <th>poutcome</th>\n",
       "    </tr>\n",
       "  </thead>\n",
       "  <tbody>\n",
       "    <tr>\n",
       "      <th>count</th>\n",
       "      <td>41188</td>\n",
       "      <td>41188</td>\n",
       "      <td>41188</td>\n",
       "      <td>41188</td>\n",
       "      <td>41188</td>\n",
       "      <td>41188</td>\n",
       "      <td>41188</td>\n",
       "      <td>41188</td>\n",
       "      <td>41188</td>\n",
       "      <td>41188</td>\n",
       "    </tr>\n",
       "    <tr>\n",
       "      <th>unique</th>\n",
       "      <td>12</td>\n",
       "      <td>4</td>\n",
       "      <td>8</td>\n",
       "      <td>3</td>\n",
       "      <td>3</td>\n",
       "      <td>3</td>\n",
       "      <td>2</td>\n",
       "      <td>10</td>\n",
       "      <td>5</td>\n",
       "      <td>3</td>\n",
       "    </tr>\n",
       "    <tr>\n",
       "      <th>top</th>\n",
       "      <td>admin.</td>\n",
       "      <td>married</td>\n",
       "      <td>university.degree</td>\n",
       "      <td>no</td>\n",
       "      <td>yes</td>\n",
       "      <td>no</td>\n",
       "      <td>cellular</td>\n",
       "      <td>may</td>\n",
       "      <td>thu</td>\n",
       "      <td>nonexistent</td>\n",
       "    </tr>\n",
       "    <tr>\n",
       "      <th>freq</th>\n",
       "      <td>10422</td>\n",
       "      <td>24928</td>\n",
       "      <td>12168</td>\n",
       "      <td>32588</td>\n",
       "      <td>21576</td>\n",
       "      <td>33950</td>\n",
       "      <td>26144</td>\n",
       "      <td>13769</td>\n",
       "      <td>8623</td>\n",
       "      <td>35563</td>\n",
       "    </tr>\n",
       "  </tbody>\n",
       "</table>\n",
       "</div>"
      ],
      "text/plain": [
       "           job  marital          education default housing   loan   contact  \\\n",
       "count    41188    41188              41188   41188   41188  41188     41188   \n",
       "unique      12        4                  8       3       3      3         2   \n",
       "top     admin.  married  university.degree      no     yes     no  cellular   \n",
       "freq     10422    24928              12168   32588   21576  33950     26144   \n",
       "\n",
       "        month day_of_week     poutcome  \n",
       "count   41188       41188        41188  \n",
       "unique     10           5            3  \n",
       "top       may         thu  nonexistent  \n",
       "freq    13769        8623        35563  "
      ]
     },
     "execution_count": 594,
     "metadata": {},
     "output_type": "execute_result"
    }
   ],
   "source": [
    "balanced_df[cat_cols].describe()"
   ]
  },
  {
   "cell_type": "code",
   "execution_count": 595,
   "metadata": {},
   "outputs": [
    {
     "name": "stdout",
     "output_type": "stream",
     "text": [
      "job: ['blue-collar' 'technician' 'management' 'services' 'retired' 'admin.'\n",
      " 'housemaid' 'unemployed' 'entrepreneur' 'self-employed' 'unknown'\n",
      " 'student']\n",
      "marital: ['married' 'single' 'divorced' 'unknown']\n",
      "education: ['basic.4y' 'unknown' 'university.degree' 'high.school' 'basic.9y'\n",
      " 'professional.course' 'basic.6y' 'illiterate']\n",
      "default: ['unknown' 'no' 'yes']\n",
      "housing: ['yes' 'no' 'unknown']\n",
      "loan: ['no' 'yes' 'unknown']\n",
      "contact: ['cellular' 'telephone']\n",
      "month: ['aug' 'nov' 'jun' 'apr' 'jul' 'may' 'oct' 'mar' 'sep' 'dec']\n",
      "day_of_week: ['thu' 'fri' 'tue' 'mon' 'wed']\n",
      "poutcome: ['nonexistent' 'success' 'failure']\n"
     ]
    }
   ],
   "source": [
    "for col in cat_cols:\n",
    "    print(col + \": \", end=\"\")\n",
    "    print(df[col].unique())"
   ]
  },
  {
   "cell_type": "markdown",
   "metadata": {},
   "source": [
    "#### One Hot Encode Categorical Columns"
   ]
  },
  {
   "cell_type": "code",
   "execution_count": 596,
   "metadata": {},
   "outputs": [
    {
     "data": {
      "text/html": [
       "<div>\n",
       "<style scoped>\n",
       "    .dataframe tbody tr th:only-of-type {\n",
       "        vertical-align: middle;\n",
       "    }\n",
       "\n",
       "    .dataframe tbody tr th {\n",
       "        vertical-align: top;\n",
       "    }\n",
       "\n",
       "    .dataframe thead th {\n",
       "        text-align: right;\n",
       "    }\n",
       "</style>\n",
       "<table border=\"1\" class=\"dataframe\">\n",
       "  <thead>\n",
       "    <tr style=\"text-align: right;\">\n",
       "      <th></th>\n",
       "      <th>age</th>\n",
       "      <th>duration</th>\n",
       "      <th>campaign</th>\n",
       "      <th>pdays</th>\n",
       "      <th>previous</th>\n",
       "      <th>emp_var_rate</th>\n",
       "      <th>cons_price_idx</th>\n",
       "      <th>cons_conf_idx</th>\n",
       "      <th>euribor3m</th>\n",
       "      <th>nr_employed</th>\n",
       "      <th>...</th>\n",
       "      <th>month_oct</th>\n",
       "      <th>month_sep</th>\n",
       "      <th>day_of_week_fri</th>\n",
       "      <th>day_of_week_mon</th>\n",
       "      <th>day_of_week_thu</th>\n",
       "      <th>day_of_week_tue</th>\n",
       "      <th>day_of_week_wed</th>\n",
       "      <th>poutcome_failure</th>\n",
       "      <th>poutcome_nonexistent</th>\n",
       "      <th>poutcome_success</th>\n",
       "    </tr>\n",
       "  </thead>\n",
       "  <tbody>\n",
       "    <tr>\n",
       "      <th>0</th>\n",
       "      <td>44</td>\n",
       "      <td>210</td>\n",
       "      <td>1</td>\n",
       "      <td>999</td>\n",
       "      <td>0</td>\n",
       "      <td>1.4</td>\n",
       "      <td>93.444</td>\n",
       "      <td>-36.1</td>\n",
       "      <td>4.963</td>\n",
       "      <td>5228.1</td>\n",
       "      <td>...</td>\n",
       "      <td>0</td>\n",
       "      <td>0</td>\n",
       "      <td>0</td>\n",
       "      <td>0</td>\n",
       "      <td>1</td>\n",
       "      <td>0</td>\n",
       "      <td>0</td>\n",
       "      <td>0</td>\n",
       "      <td>1</td>\n",
       "      <td>0</td>\n",
       "    </tr>\n",
       "    <tr>\n",
       "      <th>1</th>\n",
       "      <td>53</td>\n",
       "      <td>138</td>\n",
       "      <td>1</td>\n",
       "      <td>999</td>\n",
       "      <td>0</td>\n",
       "      <td>-0.1</td>\n",
       "      <td>93.200</td>\n",
       "      <td>-42.0</td>\n",
       "      <td>4.021</td>\n",
       "      <td>5195.8</td>\n",
       "      <td>...</td>\n",
       "      <td>0</td>\n",
       "      <td>0</td>\n",
       "      <td>1</td>\n",
       "      <td>0</td>\n",
       "      <td>0</td>\n",
       "      <td>0</td>\n",
       "      <td>0</td>\n",
       "      <td>0</td>\n",
       "      <td>1</td>\n",
       "      <td>0</td>\n",
       "    </tr>\n",
       "    <tr>\n",
       "      <th>2</th>\n",
       "      <td>28</td>\n",
       "      <td>339</td>\n",
       "      <td>3</td>\n",
       "      <td>6</td>\n",
       "      <td>2</td>\n",
       "      <td>-1.7</td>\n",
       "      <td>94.055</td>\n",
       "      <td>-39.8</td>\n",
       "      <td>0.729</td>\n",
       "      <td>4991.6</td>\n",
       "      <td>...</td>\n",
       "      <td>0</td>\n",
       "      <td>0</td>\n",
       "      <td>0</td>\n",
       "      <td>0</td>\n",
       "      <td>1</td>\n",
       "      <td>0</td>\n",
       "      <td>0</td>\n",
       "      <td>0</td>\n",
       "      <td>0</td>\n",
       "      <td>1</td>\n",
       "    </tr>\n",
       "    <tr>\n",
       "      <th>3</th>\n",
       "      <td>39</td>\n",
       "      <td>185</td>\n",
       "      <td>2</td>\n",
       "      <td>999</td>\n",
       "      <td>0</td>\n",
       "      <td>-1.8</td>\n",
       "      <td>93.075</td>\n",
       "      <td>-47.1</td>\n",
       "      <td>1.405</td>\n",
       "      <td>5099.1</td>\n",
       "      <td>...</td>\n",
       "      <td>0</td>\n",
       "      <td>0</td>\n",
       "      <td>1</td>\n",
       "      <td>0</td>\n",
       "      <td>0</td>\n",
       "      <td>0</td>\n",
       "      <td>0</td>\n",
       "      <td>0</td>\n",
       "      <td>1</td>\n",
       "      <td>0</td>\n",
       "    </tr>\n",
       "    <tr>\n",
       "      <th>4</th>\n",
       "      <td>55</td>\n",
       "      <td>137</td>\n",
       "      <td>1</td>\n",
       "      <td>3</td>\n",
       "      <td>1</td>\n",
       "      <td>-2.9</td>\n",
       "      <td>92.201</td>\n",
       "      <td>-31.4</td>\n",
       "      <td>0.869</td>\n",
       "      <td>5076.2</td>\n",
       "      <td>...</td>\n",
       "      <td>0</td>\n",
       "      <td>0</td>\n",
       "      <td>1</td>\n",
       "      <td>0</td>\n",
       "      <td>0</td>\n",
       "      <td>0</td>\n",
       "      <td>0</td>\n",
       "      <td>0</td>\n",
       "      <td>0</td>\n",
       "      <td>1</td>\n",
       "    </tr>\n",
       "  </tbody>\n",
       "</table>\n",
       "<p>5 rows × 64 columns</p>\n",
       "</div>"
      ],
      "text/plain": [
       "   age  duration  campaign  pdays  previous  emp_var_rate  cons_price_idx  \\\n",
       "0   44       210         1    999         0           1.4          93.444   \n",
       "1   53       138         1    999         0          -0.1          93.200   \n",
       "2   28       339         3      6         2          -1.7          94.055   \n",
       "3   39       185         2    999         0          -1.8          93.075   \n",
       "4   55       137         1      3         1          -2.9          92.201   \n",
       "\n",
       "   cons_conf_idx  euribor3m  nr_employed  ...  month_oct  month_sep  \\\n",
       "0          -36.1      4.963       5228.1  ...          0          0   \n",
       "1          -42.0      4.021       5195.8  ...          0          0   \n",
       "2          -39.8      0.729       4991.6  ...          0          0   \n",
       "3          -47.1      1.405       5099.1  ...          0          0   \n",
       "4          -31.4      0.869       5076.2  ...          0          0   \n",
       "\n",
       "   day_of_week_fri  day_of_week_mon  day_of_week_thu  day_of_week_tue  \\\n",
       "0                0                0                1                0   \n",
       "1                1                0                0                0   \n",
       "2                0                0                1                0   \n",
       "3                1                0                0                0   \n",
       "4                1                0                0                0   \n",
       "\n",
       "   day_of_week_wed  poutcome_failure  poutcome_nonexistent  poutcome_success  \n",
       "0                0                 0                     1                 0  \n",
       "1                0                 0                     1                 0  \n",
       "2                0                 0                     0                 1  \n",
       "3                0                 0                     1                 0  \n",
       "4                0                 0                     0                 1  \n",
       "\n",
       "[5 rows x 64 columns]"
      ]
     },
     "execution_count": 596,
     "metadata": {},
     "output_type": "execute_result"
    }
   ],
   "source": [
    "for col in cat_cols:\n",
    "    dummies = pd.get_dummies(balanced_df[col], prefix=col)\n",
    "    balanced_df = pd.concat([balanced_df, dummies], axis=1)\n",
    "    balanced_df.drop([col], axis=1, inplace=True)\n",
    "balanced_df.head()"
   ]
  },
  {
   "cell_type": "code",
   "execution_count": 597,
   "metadata": {},
   "outputs": [
    {
     "name": "stdout",
     "output_type": "stream",
     "text": [
      "<class 'pandas.core.frame.DataFrame'>\n",
      "RangeIndex: 41188 entries, 0 to 41187\n",
      "Data columns (total 64 columns):\n",
      " #   Column                         Non-Null Count  Dtype  \n",
      "---  ------                         --------------  -----  \n",
      " 0   age                            41188 non-null  int64  \n",
      " 1   duration                       41188 non-null  int64  \n",
      " 2   campaign                       41188 non-null  int64  \n",
      " 3   pdays                          41188 non-null  int64  \n",
      " 4   previous                       41188 non-null  int64  \n",
      " 5   emp_var_rate                   41188 non-null  float64\n",
      " 6   cons_price_idx                 41188 non-null  float64\n",
      " 7   cons_conf_idx                  41188 non-null  float64\n",
      " 8   euribor3m                      41188 non-null  float64\n",
      " 9   nr_employed                    41188 non-null  float64\n",
      " 10  y                              41188 non-null  int64  \n",
      " 11  job_admin.                     41188 non-null  uint8  \n",
      " 12  job_blue-collar                41188 non-null  uint8  \n",
      " 13  job_entrepreneur               41188 non-null  uint8  \n",
      " 14  job_housemaid                  41188 non-null  uint8  \n",
      " 15  job_management                 41188 non-null  uint8  \n",
      " 16  job_retired                    41188 non-null  uint8  \n",
      " 17  job_self-employed              41188 non-null  uint8  \n",
      " 18  job_services                   41188 non-null  uint8  \n",
      " 19  job_student                    41188 non-null  uint8  \n",
      " 20  job_technician                 41188 non-null  uint8  \n",
      " 21  job_unemployed                 41188 non-null  uint8  \n",
      " 22  job_unknown                    41188 non-null  uint8  \n",
      " 23  marital_divorced               41188 non-null  uint8  \n",
      " 24  marital_married                41188 non-null  uint8  \n",
      " 25  marital_single                 41188 non-null  uint8  \n",
      " 26  marital_unknown                41188 non-null  uint8  \n",
      " 27  education_basic.4y             41188 non-null  uint8  \n",
      " 28  education_basic.6y             41188 non-null  uint8  \n",
      " 29  education_basic.9y             41188 non-null  uint8  \n",
      " 30  education_high.school          41188 non-null  uint8  \n",
      " 31  education_illiterate           41188 non-null  uint8  \n",
      " 32  education_professional.course  41188 non-null  uint8  \n",
      " 33  education_university.degree    41188 non-null  uint8  \n",
      " 34  education_unknown              41188 non-null  uint8  \n",
      " 35  default_no                     41188 non-null  uint8  \n",
      " 36  default_unknown                41188 non-null  uint8  \n",
      " 37  default_yes                    41188 non-null  uint8  \n",
      " 38  housing_no                     41188 non-null  uint8  \n",
      " 39  housing_unknown                41188 non-null  uint8  \n",
      " 40  housing_yes                    41188 non-null  uint8  \n",
      " 41  loan_no                        41188 non-null  uint8  \n",
      " 42  loan_unknown                   41188 non-null  uint8  \n",
      " 43  loan_yes                       41188 non-null  uint8  \n",
      " 44  contact_cellular               41188 non-null  uint8  \n",
      " 45  contact_telephone              41188 non-null  uint8  \n",
      " 46  month_apr                      41188 non-null  uint8  \n",
      " 47  month_aug                      41188 non-null  uint8  \n",
      " 48  month_dec                      41188 non-null  uint8  \n",
      " 49  month_jul                      41188 non-null  uint8  \n",
      " 50  month_jun                      41188 non-null  uint8  \n",
      " 51  month_mar                      41188 non-null  uint8  \n",
      " 52  month_may                      41188 non-null  uint8  \n",
      " 53  month_nov                      41188 non-null  uint8  \n",
      " 54  month_oct                      41188 non-null  uint8  \n",
      " 55  month_sep                      41188 non-null  uint8  \n",
      " 56  day_of_week_fri                41188 non-null  uint8  \n",
      " 57  day_of_week_mon                41188 non-null  uint8  \n",
      " 58  day_of_week_thu                41188 non-null  uint8  \n",
      " 59  day_of_week_tue                41188 non-null  uint8  \n",
      " 60  day_of_week_wed                41188 non-null  uint8  \n",
      " 61  poutcome_failure               41188 non-null  uint8  \n",
      " 62  poutcome_nonexistent           41188 non-null  uint8  \n",
      " 63  poutcome_success               41188 non-null  uint8  \n",
      "dtypes: float64(5), int64(6), uint8(53)\n",
      "memory usage: 5.5 MB\n"
     ]
    }
   ],
   "source": [
    "balanced_df.info()"
   ]
  },
  {
   "cell_type": "markdown",
   "metadata": {},
   "source": [
    "### Observe Numerical Columns"
   ]
  },
  {
   "cell_type": "code",
   "execution_count": 598,
   "metadata": {},
   "outputs": [
    {
     "data": {
      "text/html": [
       "<div>\n",
       "<style scoped>\n",
       "    .dataframe tbody tr th:only-of-type {\n",
       "        vertical-align: middle;\n",
       "    }\n",
       "\n",
       "    .dataframe tbody tr th {\n",
       "        vertical-align: top;\n",
       "    }\n",
       "\n",
       "    .dataframe thead th {\n",
       "        text-align: right;\n",
       "    }\n",
       "</style>\n",
       "<table border=\"1\" class=\"dataframe\">\n",
       "  <thead>\n",
       "    <tr style=\"text-align: right;\">\n",
       "      <th></th>\n",
       "      <th>age</th>\n",
       "      <th>duration</th>\n",
       "      <th>campaign</th>\n",
       "      <th>pdays</th>\n",
       "      <th>previous</th>\n",
       "      <th>emp_var_rate</th>\n",
       "      <th>cons_price_idx</th>\n",
       "      <th>cons_conf_idx</th>\n",
       "      <th>euribor3m</th>\n",
       "      <th>nr_employed</th>\n",
       "    </tr>\n",
       "  </thead>\n",
       "  <tbody>\n",
       "    <tr>\n",
       "      <th>count</th>\n",
       "      <td>41188.00000</td>\n",
       "      <td>41188.000000</td>\n",
       "      <td>41188.000000</td>\n",
       "      <td>41188.000000</td>\n",
       "      <td>41188.000000</td>\n",
       "      <td>41188.000000</td>\n",
       "      <td>41188.000000</td>\n",
       "      <td>41188.000000</td>\n",
       "      <td>41188.000000</td>\n",
       "      <td>41188.000000</td>\n",
       "    </tr>\n",
       "    <tr>\n",
       "      <th>mean</th>\n",
       "      <td>40.02406</td>\n",
       "      <td>258.285010</td>\n",
       "      <td>2.567593</td>\n",
       "      <td>962.475454</td>\n",
       "      <td>0.172963</td>\n",
       "      <td>0.081886</td>\n",
       "      <td>93.575664</td>\n",
       "      <td>-40.502600</td>\n",
       "      <td>3.621291</td>\n",
       "      <td>5167.035911</td>\n",
       "    </tr>\n",
       "    <tr>\n",
       "      <th>std</th>\n",
       "      <td>10.42125</td>\n",
       "      <td>259.279249</td>\n",
       "      <td>2.770014</td>\n",
       "      <td>186.910907</td>\n",
       "      <td>0.494901</td>\n",
       "      <td>1.570960</td>\n",
       "      <td>0.578840</td>\n",
       "      <td>4.628198</td>\n",
       "      <td>1.734447</td>\n",
       "      <td>72.251528</td>\n",
       "    </tr>\n",
       "    <tr>\n",
       "      <th>min</th>\n",
       "      <td>17.00000</td>\n",
       "      <td>0.000000</td>\n",
       "      <td>1.000000</td>\n",
       "      <td>0.000000</td>\n",
       "      <td>0.000000</td>\n",
       "      <td>-3.400000</td>\n",
       "      <td>92.201000</td>\n",
       "      <td>-50.800000</td>\n",
       "      <td>0.634000</td>\n",
       "      <td>4963.600000</td>\n",
       "    </tr>\n",
       "    <tr>\n",
       "      <th>25%</th>\n",
       "      <td>32.00000</td>\n",
       "      <td>102.000000</td>\n",
       "      <td>1.000000</td>\n",
       "      <td>999.000000</td>\n",
       "      <td>0.000000</td>\n",
       "      <td>-1.800000</td>\n",
       "      <td>93.075000</td>\n",
       "      <td>-42.700000</td>\n",
       "      <td>1.344000</td>\n",
       "      <td>5099.100000</td>\n",
       "    </tr>\n",
       "    <tr>\n",
       "      <th>50%</th>\n",
       "      <td>38.00000</td>\n",
       "      <td>180.000000</td>\n",
       "      <td>2.000000</td>\n",
       "      <td>999.000000</td>\n",
       "      <td>0.000000</td>\n",
       "      <td>1.100000</td>\n",
       "      <td>93.749000</td>\n",
       "      <td>-41.800000</td>\n",
       "      <td>4.857000</td>\n",
       "      <td>5191.000000</td>\n",
       "    </tr>\n",
       "    <tr>\n",
       "      <th>75%</th>\n",
       "      <td>47.00000</td>\n",
       "      <td>319.000000</td>\n",
       "      <td>3.000000</td>\n",
       "      <td>999.000000</td>\n",
       "      <td>0.000000</td>\n",
       "      <td>1.400000</td>\n",
       "      <td>93.994000</td>\n",
       "      <td>-36.400000</td>\n",
       "      <td>4.961000</td>\n",
       "      <td>5228.100000</td>\n",
       "    </tr>\n",
       "    <tr>\n",
       "      <th>max</th>\n",
       "      <td>98.00000</td>\n",
       "      <td>4918.000000</td>\n",
       "      <td>56.000000</td>\n",
       "      <td>999.000000</td>\n",
       "      <td>7.000000</td>\n",
       "      <td>1.400000</td>\n",
       "      <td>94.767000</td>\n",
       "      <td>-26.900000</td>\n",
       "      <td>5.045000</td>\n",
       "      <td>5228.100000</td>\n",
       "    </tr>\n",
       "  </tbody>\n",
       "</table>\n",
       "</div>"
      ],
      "text/plain": [
       "               age      duration      campaign         pdays      previous  \\\n",
       "count  41188.00000  41188.000000  41188.000000  41188.000000  41188.000000   \n",
       "mean      40.02406    258.285010      2.567593    962.475454      0.172963   \n",
       "std       10.42125    259.279249      2.770014    186.910907      0.494901   \n",
       "min       17.00000      0.000000      1.000000      0.000000      0.000000   \n",
       "25%       32.00000    102.000000      1.000000    999.000000      0.000000   \n",
       "50%       38.00000    180.000000      2.000000    999.000000      0.000000   \n",
       "75%       47.00000    319.000000      3.000000    999.000000      0.000000   \n",
       "max       98.00000   4918.000000     56.000000    999.000000      7.000000   \n",
       "\n",
       "       emp_var_rate  cons_price_idx  cons_conf_idx     euribor3m   nr_employed  \n",
       "count  41188.000000    41188.000000   41188.000000  41188.000000  41188.000000  \n",
       "mean       0.081886       93.575664     -40.502600      3.621291   5167.035911  \n",
       "std        1.570960        0.578840       4.628198      1.734447     72.251528  \n",
       "min       -3.400000       92.201000     -50.800000      0.634000   4963.600000  \n",
       "25%       -1.800000       93.075000     -42.700000      1.344000   5099.100000  \n",
       "50%        1.100000       93.749000     -41.800000      4.857000   5191.000000  \n",
       "75%        1.400000       93.994000     -36.400000      4.961000   5228.100000  \n",
       "max        1.400000       94.767000     -26.900000      5.045000   5228.100000  "
      ]
     },
     "execution_count": 598,
     "metadata": {},
     "output_type": "execute_result"
    }
   ],
   "source": [
    "balanced_df[num_cols].describe()"
   ]
  },
  {
   "cell_type": "markdown",
   "metadata": {},
   "source": [
    "#### Standard Scale Numerical Columns"
   ]
  },
  {
   "cell_type": "code",
   "execution_count": 599,
   "metadata": {},
   "outputs": [],
   "source": [
    "from sklearn.preprocessing import StandardScaler"
   ]
  },
  {
   "cell_type": "code",
   "execution_count": 600,
   "metadata": {},
   "outputs": [],
   "source": [
    "ss = StandardScaler()"
   ]
  },
  {
   "cell_type": "code",
   "execution_count": 601,
   "metadata": {},
   "outputs": [
    {
     "data": {
      "text/html": [
       "<div>\n",
       "<style scoped>\n",
       "    .dataframe tbody tr th:only-of-type {\n",
       "        vertical-align: middle;\n",
       "    }\n",
       "\n",
       "    .dataframe tbody tr th {\n",
       "        vertical-align: top;\n",
       "    }\n",
       "\n",
       "    .dataframe thead th {\n",
       "        text-align: right;\n",
       "    }\n",
       "</style>\n",
       "<table border=\"1\" class=\"dataframe\">\n",
       "  <thead>\n",
       "    <tr style=\"text-align: right;\">\n",
       "      <th></th>\n",
       "      <th>age</th>\n",
       "      <th>duration</th>\n",
       "      <th>campaign</th>\n",
       "      <th>pdays</th>\n",
       "      <th>previous</th>\n",
       "      <th>emp_var_rate</th>\n",
       "      <th>cons_price_idx</th>\n",
       "      <th>cons_conf_idx</th>\n",
       "      <th>euribor3m</th>\n",
       "      <th>nr_employed</th>\n",
       "    </tr>\n",
       "  </thead>\n",
       "  <tbody>\n",
       "    <tr>\n",
       "      <th>0</th>\n",
       "      <td>0.381527</td>\n",
       "      <td>-0.186230</td>\n",
       "      <td>-0.565922</td>\n",
       "      <td>0.195414</td>\n",
       "      <td>-0.349494</td>\n",
       "      <td>0.839061</td>\n",
       "      <td>-0.227465</td>\n",
       "      <td>0.951267</td>\n",
       "      <td>0.773575</td>\n",
       "      <td>0.845170</td>\n",
       "    </tr>\n",
       "    <tr>\n",
       "      <th>1</th>\n",
       "      <td>1.245157</td>\n",
       "      <td>-0.463926</td>\n",
       "      <td>-0.565922</td>\n",
       "      <td>0.195414</td>\n",
       "      <td>-0.349494</td>\n",
       "      <td>-0.115781</td>\n",
       "      <td>-0.649003</td>\n",
       "      <td>-0.323542</td>\n",
       "      <td>0.230456</td>\n",
       "      <td>0.398115</td>\n",
       "    </tr>\n",
       "    <tr>\n",
       "      <th>2</th>\n",
       "      <td>-1.153816</td>\n",
       "      <td>0.311309</td>\n",
       "      <td>0.156105</td>\n",
       "      <td>-5.117342</td>\n",
       "      <td>3.691766</td>\n",
       "      <td>-1.134279</td>\n",
       "      <td>0.828107</td>\n",
       "      <td>0.151810</td>\n",
       "      <td>-1.667578</td>\n",
       "      <td>-2.428157</td>\n",
       "    </tr>\n",
       "    <tr>\n",
       "      <th>3</th>\n",
       "      <td>-0.098268</td>\n",
       "      <td>-0.282652</td>\n",
       "      <td>-0.204909</td>\n",
       "      <td>0.195414</td>\n",
       "      <td>-0.349494</td>\n",
       "      <td>-1.197935</td>\n",
       "      <td>-0.864955</td>\n",
       "      <td>-1.425496</td>\n",
       "      <td>-1.277824</td>\n",
       "      <td>-0.940281</td>\n",
       "    </tr>\n",
       "    <tr>\n",
       "      <th>4</th>\n",
       "      <td>1.437075</td>\n",
       "      <td>-0.467783</td>\n",
       "      <td>-0.565922</td>\n",
       "      <td>-5.133393</td>\n",
       "      <td>1.671136</td>\n",
       "      <td>-1.898153</td>\n",
       "      <td>-2.374889</td>\n",
       "      <td>1.966794</td>\n",
       "      <td>-1.586859</td>\n",
       "      <td>-1.257233</td>\n",
       "    </tr>\n",
       "  </tbody>\n",
       "</table>\n",
       "</div>"
      ],
      "text/plain": [
       "        age  duration  campaign     pdays  previous  emp_var_rate  \\\n",
       "0  0.381527 -0.186230 -0.565922  0.195414 -0.349494      0.839061   \n",
       "1  1.245157 -0.463926 -0.565922  0.195414 -0.349494     -0.115781   \n",
       "2 -1.153816  0.311309  0.156105 -5.117342  3.691766     -1.134279   \n",
       "3 -0.098268 -0.282652 -0.204909  0.195414 -0.349494     -1.197935   \n",
       "4  1.437075 -0.467783 -0.565922 -5.133393  1.671136     -1.898153   \n",
       "\n",
       "   cons_price_idx  cons_conf_idx  euribor3m  nr_employed  \n",
       "0       -0.227465       0.951267   0.773575     0.845170  \n",
       "1       -0.649003      -0.323542   0.230456     0.398115  \n",
       "2        0.828107       0.151810  -1.667578    -2.428157  \n",
       "3       -0.864955      -1.425496  -1.277824    -0.940281  \n",
       "4       -2.374889       1.966794  -1.586859    -1.257233  "
      ]
     },
     "execution_count": 601,
     "metadata": {},
     "output_type": "execute_result"
    }
   ],
   "source": [
    "scaled_df = pd.DataFrame(ss.fit_transform(balanced_df[num_cols]), columns=num_cols, index=balanced_df.index)\n",
    "scaled_df.head()"
   ]
  },
  {
   "cell_type": "code",
   "execution_count": 602,
   "metadata": {},
   "outputs": [
    {
     "name": "stdout",
     "output_type": "stream",
     "text": [
      "<class 'pandas.core.frame.DataFrame'>\n",
      "RangeIndex: 41188 entries, 0 to 41187\n",
      "Data columns (total 64 columns):\n",
      " #   Column                         Non-Null Count  Dtype  \n",
      "---  ------                         --------------  -----  \n",
      " 0   y                              41188 non-null  int64  \n",
      " 1   job_admin.                     41188 non-null  uint8  \n",
      " 2   job_blue-collar                41188 non-null  uint8  \n",
      " 3   job_entrepreneur               41188 non-null  uint8  \n",
      " 4   job_housemaid                  41188 non-null  uint8  \n",
      " 5   job_management                 41188 non-null  uint8  \n",
      " 6   job_retired                    41188 non-null  uint8  \n",
      " 7   job_self-employed              41188 non-null  uint8  \n",
      " 8   job_services                   41188 non-null  uint8  \n",
      " 9   job_student                    41188 non-null  uint8  \n",
      " 10  job_technician                 41188 non-null  uint8  \n",
      " 11  job_unemployed                 41188 non-null  uint8  \n",
      " 12  job_unknown                    41188 non-null  uint8  \n",
      " 13  marital_divorced               41188 non-null  uint8  \n",
      " 14  marital_married                41188 non-null  uint8  \n",
      " 15  marital_single                 41188 non-null  uint8  \n",
      " 16  marital_unknown                41188 non-null  uint8  \n",
      " 17  education_basic.4y             41188 non-null  uint8  \n",
      " 18  education_basic.6y             41188 non-null  uint8  \n",
      " 19  education_basic.9y             41188 non-null  uint8  \n",
      " 20  education_high.school          41188 non-null  uint8  \n",
      " 21  education_illiterate           41188 non-null  uint8  \n",
      " 22  education_professional.course  41188 non-null  uint8  \n",
      " 23  education_university.degree    41188 non-null  uint8  \n",
      " 24  education_unknown              41188 non-null  uint8  \n",
      " 25  default_no                     41188 non-null  uint8  \n",
      " 26  default_unknown                41188 non-null  uint8  \n",
      " 27  default_yes                    41188 non-null  uint8  \n",
      " 28  housing_no                     41188 non-null  uint8  \n",
      " 29  housing_unknown                41188 non-null  uint8  \n",
      " 30  housing_yes                    41188 non-null  uint8  \n",
      " 31  loan_no                        41188 non-null  uint8  \n",
      " 32  loan_unknown                   41188 non-null  uint8  \n",
      " 33  loan_yes                       41188 non-null  uint8  \n",
      " 34  contact_cellular               41188 non-null  uint8  \n",
      " 35  contact_telephone              41188 non-null  uint8  \n",
      " 36  month_apr                      41188 non-null  uint8  \n",
      " 37  month_aug                      41188 non-null  uint8  \n",
      " 38  month_dec                      41188 non-null  uint8  \n",
      " 39  month_jul                      41188 non-null  uint8  \n",
      " 40  month_jun                      41188 non-null  uint8  \n",
      " 41  month_mar                      41188 non-null  uint8  \n",
      " 42  month_may                      41188 non-null  uint8  \n",
      " 43  month_nov                      41188 non-null  uint8  \n",
      " 44  month_oct                      41188 non-null  uint8  \n",
      " 45  month_sep                      41188 non-null  uint8  \n",
      " 46  day_of_week_fri                41188 non-null  uint8  \n",
      " 47  day_of_week_mon                41188 non-null  uint8  \n",
      " 48  day_of_week_thu                41188 non-null  uint8  \n",
      " 49  day_of_week_tue                41188 non-null  uint8  \n",
      " 50  day_of_week_wed                41188 non-null  uint8  \n",
      " 51  poutcome_failure               41188 non-null  uint8  \n",
      " 52  poutcome_nonexistent           41188 non-null  uint8  \n",
      " 53  poutcome_success               41188 non-null  uint8  \n",
      " 54  age                            41188 non-null  float64\n",
      " 55  duration                       41188 non-null  float64\n",
      " 56  campaign                       41188 non-null  float64\n",
      " 57  pdays                          41188 non-null  float64\n",
      " 58  previous                       41188 non-null  float64\n",
      " 59  emp_var_rate                   41188 non-null  float64\n",
      " 60  cons_price_idx                 41188 non-null  float64\n",
      " 61  cons_conf_idx                  41188 non-null  float64\n",
      " 62  euribor3m                      41188 non-null  float64\n",
      " 63  nr_employed                    41188 non-null  float64\n",
      "dtypes: float64(10), int64(1), uint8(53)\n",
      "memory usage: 5.5 MB\n"
     ]
    }
   ],
   "source": [
    "balanced_df.drop(num_cols, axis=1, inplace=True)\n",
    "balanced_df = pd.concat([balanced_df, scaled_df], axis=1)\n",
    "balanced_df.info()"
   ]
  },
  {
   "cell_type": "markdown",
   "metadata": {},
   "source": [
    "## Split Dataset"
   ]
  },
  {
   "cell_type": "code",
   "execution_count": 603,
   "metadata": {},
   "outputs": [],
   "source": [
    "from sklearn.model_selection import train_test_split"
   ]
  },
  {
   "cell_type": "code",
   "execution_count": 604,
   "metadata": {},
   "outputs": [
    {
     "data": {
      "text/plain": [
       "((41188, 63), (41188,))"
      ]
     },
     "execution_count": 604,
     "metadata": {},
     "output_type": "execute_result"
    }
   ],
   "source": [
    "X = balanced_df.drop('y', axis=1)\n",
    "y = balanced_df['y']\n",
    "X.shape, y.shape"
   ]
  },
  {
   "cell_type": "code",
   "execution_count": 605,
   "metadata": {},
   "outputs": [
    {
     "data": {
      "text/plain": [
       "((28831, 63), (12357, 63), (28831,), (12357,))"
      ]
     },
     "execution_count": 605,
     "metadata": {},
     "output_type": "execute_result"
    }
   ],
   "source": [
    "X_train, X_test, y_train, y_test = train_test_split(X, y, test_size=0.3, random_state=1)\n",
    "X_train.shape, X_test.shape, y_train.shape, y_test.shape"
   ]
  },
  {
   "cell_type": "code",
   "execution_count": 606,
   "metadata": {},
   "outputs": [],
   "source": [
    "# X_train = preprocessing.scale(X_train)\n",
    "# X_test = preprocessing.scale(X_test)"
   ]
  },
  {
   "cell_type": "markdown",
   "metadata": {},
   "source": [
    "## Model Data"
   ]
  },
  {
   "cell_type": "code",
   "execution_count": 607,
   "metadata": {},
   "outputs": [],
   "source": [
    "from sklearn.linear_model import LogisticRegression"
   ]
  },
  {
   "cell_type": "code",
   "execution_count": 608,
   "metadata": {},
   "outputs": [],
   "source": [
    "logreg = LogisticRegression(max_iter=1000)"
   ]
  },
  {
   "cell_type": "code",
   "execution_count": 609,
   "metadata": {},
   "outputs": [
    {
     "data": {
      "text/plain": [
       "0.90928218823339"
      ]
     },
     "execution_count": 609,
     "metadata": {},
     "output_type": "execute_result"
    }
   ],
   "source": [
    "logreg.fit(X_train, y_train)\n",
    "logreg.score(X_test, y_test)"
   ]
  },
  {
   "cell_type": "code",
   "execution_count": 610,
   "metadata": {},
   "outputs": [
    {
     "name": "stdout",
     "output_type": "stream",
     "text": [
      "[0 0 0 ... 0 0 0]\n"
     ]
    }
   ],
   "source": [
    "y_test_preds = logreg.predict(X_test)\n",
    "print(y_test_preds)"
   ]
  },
  {
   "cell_type": "code",
   "execution_count": 611,
   "metadata": {},
   "outputs": [
    {
     "data": {
      "text/plain": [
       "0.90928218823339"
      ]
     },
     "execution_count": 611,
     "metadata": {},
     "output_type": "execute_result"
    }
   ],
   "source": [
    "from sklearn.metrics import accuracy_score\n",
    "\n",
    "accuracy_score(y_test, y_test_preds)"
   ]
  }
 ],
 "metadata": {
  "kernelspec": {
   "display_name": "Python 3.9.12 ('base')",
   "language": "python",
   "name": "python3"
  },
  "language_info": {
   "codemirror_mode": {
    "name": "ipython",
    "version": 3
   },
   "file_extension": ".py",
   "mimetype": "text/x-python",
   "name": "python",
   "nbconvert_exporter": "python",
   "pygments_lexer": "ipython3",
   "version": "3.9.12"
  },
  "orig_nbformat": 4,
  "vscode": {
   "interpreter": {
    "hash": "e09eae4f40b310c977e8cd9a78c9f7e8e6294180fd0d0f0fb663a8bc327a78bf"
   }
  }
 },
 "nbformat": 4,
 "nbformat_minor": 2
}
